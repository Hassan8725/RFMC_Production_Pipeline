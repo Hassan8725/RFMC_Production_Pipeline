{
 "cells": [
  {
   "cell_type": "markdown",
   "metadata": {},
   "source": [
    "## Importing Libraries"
   ]
  },
  {
   "cell_type": "code",
   "execution_count": 227,
   "metadata": {
    "scrolled": true
   },
   "outputs": [],
   "source": [
    "import os\n",
    "import numpy as np\n",
    "import pandas as pd\n",
    "import datetime as dt\n",
    "import matplotlib.pyplot as plt\n",
    "import seaborn as sns\n",
    "import pymysql\n",
    "import warnings\n",
    "import psycopg2\n",
    "from psycopg2 import Error\n",
    "from statsmodels.sandbox.stats.runs import runstest_1samp\n",
    "from sqlalchemy import create_engine\n",
    "from sqlalchemy import text\n",
    "warnings.filterwarnings(\"ignore\")"
   ]
  },
  {
   "cell_type": "markdown",
   "metadata": {},
   "source": [
    "## Importing Data From DB"
   ]
  },
  {
   "cell_type": "code",
   "execution_count": 202,
   "metadata": {},
   "outputs": [],
   "source": [
    "process_start=dt.datetime.now()"
   ]
  },
  {
   "cell_type": "code",
   "execution_count": 2,
   "metadata": {
    "scrolled": true
   },
   "outputs": [
    {
     "name": "stdout",
     "output_type": "stream",
     "text": [
      "Table has been fetched:\n",
      "\n",
      "Shape is:  (1353817, 8)\n"
     ]
    },
    {
     "data": {
      "text/html": [
       "<div>\n",
       "<style scoped>\n",
       "    .dataframe tbody tr th:only-of-type {\n",
       "        vertical-align: middle;\n",
       "    }\n",
       "\n",
       "    .dataframe tbody tr th {\n",
       "        vertical-align: top;\n",
       "    }\n",
       "\n",
       "    .dataframe thead th {\n",
       "        text-align: right;\n",
       "    }\n",
       "</style>\n",
       "<table border=\"1\" class=\"dataframe\">\n",
       "  <thead>\n",
       "    <tr style=\"text-align: right;\">\n",
       "      <th></th>\n",
       "      <th>date_col</th>\n",
       "      <th>datetime_col</th>\n",
       "      <th>callid</th>\n",
       "      <th>liblactivite_vaca</th>\n",
       "      <th>customerid</th>\n",
       "      <th>proxy_metric_new</th>\n",
       "      <th>on_off</th>\n",
       "      <th>issale</th>\n",
       "    </tr>\n",
       "  </thead>\n",
       "  <tbody>\n",
       "    <tr>\n",
       "      <th>0</th>\n",
       "      <td>2021-03-01</td>\n",
       "      <td>2021-03-01 11:54:14</td>\n",
       "      <td>00001032431614596054</td>\n",
       "      <td>NECTAR</td>\n",
       "      <td>0130795172</td>\n",
       "      <td>239.19</td>\n",
       "      <td>0</td>\n",
       "      <td>1</td>\n",
       "    </tr>\n",
       "    <tr>\n",
       "      <th>1</th>\n",
       "      <td>2021-03-02</td>\n",
       "      <td>2021-03-02 09:00:31</td>\n",
       "      <td>00001077051614672031</td>\n",
       "      <td>NUM COURTS</td>\n",
       "      <td>0442317256</td>\n",
       "      <td>0.00</td>\n",
       "      <td>0</td>\n",
       "      <td>0</td>\n",
       "    </tr>\n",
       "    <tr>\n",
       "      <th>2</th>\n",
       "      <td>2021-03-02</td>\n",
       "      <td>2021-03-02 09:00:58</td>\n",
       "      <td>00001084751614672058</td>\n",
       "      <td>NUM COURTS</td>\n",
       "      <td>0160201115</td>\n",
       "      <td>0.00</td>\n",
       "      <td>0</td>\n",
       "      <td>0</td>\n",
       "    </tr>\n",
       "    <tr>\n",
       "      <th>3</th>\n",
       "      <td>2021-03-02</td>\n",
       "      <td>2021-03-02 09:01:06</td>\n",
       "      <td>00001087231614672066</td>\n",
       "      <td>NUM COURTS</td>\n",
       "      <td>0698701414</td>\n",
       "      <td>0.00</td>\n",
       "      <td>0</td>\n",
       "      <td>0</td>\n",
       "    </tr>\n",
       "    <tr>\n",
       "      <th>4</th>\n",
       "      <td>2021-03-02</td>\n",
       "      <td>2021-03-02 09:01:08</td>\n",
       "      <td>00001087901614672068</td>\n",
       "      <td>NUM COURTS</td>\n",
       "      <td>0618915588</td>\n",
       "      <td>0.00</td>\n",
       "      <td>0</td>\n",
       "      <td>0</td>\n",
       "    </tr>\n",
       "  </tbody>\n",
       "</table>\n",
       "</div>"
      ],
      "text/plain": [
       "     date_col        datetime_col                callid liblactivite_vaca  \\\n",
       "0  2021-03-01 2021-03-01 11:54:14  00001032431614596054            NECTAR   \n",
       "1  2021-03-02 2021-03-02 09:00:31  00001077051614672031        NUM COURTS   \n",
       "2  2021-03-02 2021-03-02 09:00:58  00001084751614672058        NUM COURTS   \n",
       "3  2021-03-02 2021-03-02 09:01:06  00001087231614672066        NUM COURTS   \n",
       "4  2021-03-02 2021-03-02 09:01:08  00001087901614672068        NUM COURTS   \n",
       "\n",
       "   customerid  proxy_metric_new  on_off  issale  \n",
       "0  0130795172            239.19       0       1  \n",
       "1  0442317256              0.00       0       0  \n",
       "2  0160201115              0.00       0       0  \n",
       "3  0698701414              0.00       0       0  \n",
       "4  0618915588              0.00       0       0  "
      ]
     },
     "execution_count": 2,
     "metadata": {},
     "output_type": "execute_result"
    }
   ],
   "source": [
    "connection = psycopg2.connect(user=\"\",\n",
    "                                  password=\"\",\n",
    "                                  host=\"\",\n",
    "                                  port=\"\",\n",
    "                                  database=\"\")\n",
    "    \n",
    "df=pd.read_sql('''select date(seg_start) as date_col, seg_start as datetime_col, idnt_unique_appel as callid,\n",
    "                    libl_activite as liblactivite_vaca, num_appel_qualifie as customerid,\n",
    "                    coalesce(cds_modelling_arpu,0) as proxy_metric_new,\n",
    "                    case when benchmark=1 then 1 else 0 end  as on_off, \n",
    "                    case when (coalesce(cds_modelling_arpu,0))> 0 then 1 else 0 end as issale\n",
    "                    from schema.table\n",
    "                    where libl_activite in ('NECTAR', 'NUM COURTS', 'C2C') \n",
    "                    and disp_vdn in (2000436,2000437,2000438,2000440,2000441,2000442,2000432,2000433,\n",
    "                    2000416,2000417,2000418,2000419,2000420,2000421,2000422)\n",
    "                    and (num_appel_qualifie ~* '^\\d+?$') is true \n",
    "                    and num_appel_qualifie not in ('0171025800','0187250000','0187037000', '0000000000')\n",
    "                    and coalesce(cds_modelling_arpu,0) >= 0\n",
    "                    and seg_start >='2021-03-01' order by seg_start asc;''', connection)\n",
    "print(\"Table has been fetched:\\n\\nShape is: \", df.shape)\n",
    "df.head()"
   ]
  },
  {
   "cell_type": "code",
   "execution_count": 4,
   "metadata": {
    "scrolled": true
   },
   "outputs": [
    {
     "data": {
      "text/html": [
       "<div>\n",
       "<style scoped>\n",
       "    .dataframe tbody tr th:only-of-type {\n",
       "        vertical-align: middle;\n",
       "    }\n",
       "\n",
       "    .dataframe tbody tr th {\n",
       "        vertical-align: top;\n",
       "    }\n",
       "\n",
       "    .dataframe thead th {\n",
       "        text-align: right;\n",
       "    }\n",
       "</style>\n",
       "<table border=\"1\" class=\"dataframe\">\n",
       "  <thead>\n",
       "    <tr style=\"text-align: right;\">\n",
       "      <th></th>\n",
       "      <th>date_col</th>\n",
       "      <th>datetime_col</th>\n",
       "      <th>callid</th>\n",
       "      <th>liblactivite_vaca</th>\n",
       "      <th>customerid</th>\n",
       "      <th>proxy_metric_new</th>\n",
       "      <th>on_off</th>\n",
       "      <th>issale</th>\n",
       "    </tr>\n",
       "  </thead>\n",
       "  <tbody>\n",
       "    <tr>\n",
       "      <th>0</th>\n",
       "      <td>2021-03-01</td>\n",
       "      <td>2021-03-01 11:54:14</td>\n",
       "      <td>00001032431614596054</td>\n",
       "      <td>NECTAR</td>\n",
       "      <td>0130795172</td>\n",
       "      <td>239.19</td>\n",
       "      <td>0</td>\n",
       "      <td>1</td>\n",
       "    </tr>\n",
       "    <tr>\n",
       "      <th>1</th>\n",
       "      <td>2021-03-02</td>\n",
       "      <td>2021-03-02 09:00:31</td>\n",
       "      <td>00001077051614672031</td>\n",
       "      <td>NUM COURTS</td>\n",
       "      <td>0442317256</td>\n",
       "      <td>0.00</td>\n",
       "      <td>0</td>\n",
       "      <td>0</td>\n",
       "    </tr>\n",
       "    <tr>\n",
       "      <th>2</th>\n",
       "      <td>2021-03-02</td>\n",
       "      <td>2021-03-02 09:00:58</td>\n",
       "      <td>00001084751614672058</td>\n",
       "      <td>NUM COURTS</td>\n",
       "      <td>0160201115</td>\n",
       "      <td>0.00</td>\n",
       "      <td>0</td>\n",
       "      <td>0</td>\n",
       "    </tr>\n",
       "    <tr>\n",
       "      <th>3</th>\n",
       "      <td>2021-03-02</td>\n",
       "      <td>2021-03-02 09:01:06</td>\n",
       "      <td>00001087231614672066</td>\n",
       "      <td>NUM COURTS</td>\n",
       "      <td>0698701414</td>\n",
       "      <td>0.00</td>\n",
       "      <td>0</td>\n",
       "      <td>0</td>\n",
       "    </tr>\n",
       "    <tr>\n",
       "      <th>4</th>\n",
       "      <td>2021-03-02</td>\n",
       "      <td>2021-03-02 09:01:08</td>\n",
       "      <td>00001087901614672068</td>\n",
       "      <td>NUM COURTS</td>\n",
       "      <td>0618915588</td>\n",
       "      <td>0.00</td>\n",
       "      <td>0</td>\n",
       "      <td>0</td>\n",
       "    </tr>\n",
       "  </tbody>\n",
       "</table>\n",
       "</div>"
      ],
      "text/plain": [
       "    date_col        datetime_col                callid liblactivite_vaca  \\\n",
       "0 2021-03-01 2021-03-01 11:54:14  00001032431614596054            NECTAR   \n",
       "1 2021-03-02 2021-03-02 09:00:31  00001077051614672031        NUM COURTS   \n",
       "2 2021-03-02 2021-03-02 09:00:58  00001084751614672058        NUM COURTS   \n",
       "3 2021-03-02 2021-03-02 09:01:06  00001087231614672066        NUM COURTS   \n",
       "4 2021-03-02 2021-03-02 09:01:08  00001087901614672068        NUM COURTS   \n",
       "\n",
       "   customerid  proxy_metric_new  on_off  issale  \n",
       "0  0130795172            239.19       0       1  \n",
       "1  0442317256              0.00       0       0  \n",
       "2  0160201115              0.00       0       0  \n",
       "3  0698701414              0.00       0       0  \n",
       "4  0618915588              0.00       0       0  "
      ]
     },
     "execution_count": 4,
     "metadata": {},
     "output_type": "execute_result"
    }
   ],
   "source": [
    "df[\"date_col\"]= pd.to_datetime(df[\"date_col\"])\n",
    "pd.set_option(\"display.max_columns\", None)\n",
    "pd.set_option(\"display.max_rows\", None)\n",
    "df.head()"
   ]
  },
  {
   "cell_type": "markdown",
   "metadata": {},
   "source": [
    "# DESCRIPTIVE ANALYSIS"
   ]
  },
  {
   "cell_type": "markdown",
   "metadata": {},
   "source": [
    "#### In this lab we will be covering topics of the following order\n",
    "\n",
    "1) Basic Infromation regarding dataset\n",
    "\n",
    "2) Null Value Analysis\n",
    "\n",
    "3) Univariate Analysis using Pandas Profiling\n",
    "\n",
    "4) Month Wise Statistics\n",
    "\n",
    "5) Country Wise Statistics \n",
    "\n",
    "6) Customer Wise Analysis using RFM Quantitative Technique"
   ]
  },
  {
   "cell_type": "markdown",
   "metadata": {},
   "source": [
    "### 1) Basic Infromation regarding dataset"
   ]
  },
  {
   "cell_type": "code",
   "execution_count": 5,
   "metadata": {
    "scrolled": true
   },
   "outputs": [
    {
     "data": {
      "text/plain": [
       "(1353817, 8)"
      ]
     },
     "execution_count": 5,
     "metadata": {},
     "output_type": "execute_result"
    }
   ],
   "source": [
    "df.shape"
   ]
  },
  {
   "cell_type": "code",
   "execution_count": 6,
   "metadata": {
    "scrolled": true
   },
   "outputs": [
    {
     "name": "stdout",
     "output_type": "stream",
     "text": [
      "<class 'pandas.core.frame.DataFrame'>\n",
      "RangeIndex: 1353817 entries, 0 to 1353816\n",
      "Data columns (total 8 columns):\n",
      "date_col             1353817 non-null datetime64[ns]\n",
      "datetime_col         1353817 non-null datetime64[ns]\n",
      "callid               1353817 non-null object\n",
      "liblactivite_vaca    1353817 non-null object\n",
      "customerid           1353817 non-null object\n",
      "proxy_metric_new     1353817 non-null float64\n",
      "on_off               1353817 non-null int64\n",
      "issale               1353817 non-null int64\n",
      "dtypes: datetime64[ns](2), float64(1), int64(2), object(3)\n",
      "memory usage: 82.6+ MB\n"
     ]
    }
   ],
   "source": [
    "df.info(verbose=True, null_counts=True)"
   ]
  },
  {
   "cell_type": "code",
   "execution_count": 7,
   "metadata": {
    "scrolled": true
   },
   "outputs": [
    {
     "data": {
      "text/html": [
       "<div>\n",
       "<style scoped>\n",
       "    .dataframe tbody tr th:only-of-type {\n",
       "        vertical-align: middle;\n",
       "    }\n",
       "\n",
       "    .dataframe tbody tr th {\n",
       "        vertical-align: top;\n",
       "    }\n",
       "\n",
       "    .dataframe thead th {\n",
       "        text-align: right;\n",
       "    }\n",
       "</style>\n",
       "<table border=\"1\" class=\"dataframe\">\n",
       "  <thead>\n",
       "    <tr style=\"text-align: right;\">\n",
       "      <th></th>\n",
       "      <th>proxy_metric_new</th>\n",
       "      <th>on_off</th>\n",
       "      <th>issale</th>\n",
       "    </tr>\n",
       "  </thead>\n",
       "  <tbody>\n",
       "    <tr>\n",
       "      <th>count</th>\n",
       "      <td>1.353817e+06</td>\n",
       "      <td>1.353817e+06</td>\n",
       "      <td>1.353817e+06</td>\n",
       "    </tr>\n",
       "    <tr>\n",
       "      <th>mean</th>\n",
       "      <td>2.378704e+01</td>\n",
       "      <td>2.408073e-01</td>\n",
       "      <td>1.692415e-01</td>\n",
       "    </tr>\n",
       "    <tr>\n",
       "      <th>std</th>\n",
       "      <td>6.698688e+01</td>\n",
       "      <td>4.275737e-01</td>\n",
       "      <td>3.749652e-01</td>\n",
       "    </tr>\n",
       "    <tr>\n",
       "      <th>min</th>\n",
       "      <td>0.000000e+00</td>\n",
       "      <td>0.000000e+00</td>\n",
       "      <td>0.000000e+00</td>\n",
       "    </tr>\n",
       "    <tr>\n",
       "      <th>25%</th>\n",
       "      <td>0.000000e+00</td>\n",
       "      <td>0.000000e+00</td>\n",
       "      <td>0.000000e+00</td>\n",
       "    </tr>\n",
       "    <tr>\n",
       "      <th>50%</th>\n",
       "      <td>0.000000e+00</td>\n",
       "      <td>0.000000e+00</td>\n",
       "      <td>0.000000e+00</td>\n",
       "    </tr>\n",
       "    <tr>\n",
       "      <th>75%</th>\n",
       "      <td>0.000000e+00</td>\n",
       "      <td>0.000000e+00</td>\n",
       "      <td>0.000000e+00</td>\n",
       "    </tr>\n",
       "    <tr>\n",
       "      <th>max</th>\n",
       "      <td>1.717640e+03</td>\n",
       "      <td>1.000000e+00</td>\n",
       "      <td>1.000000e+00</td>\n",
       "    </tr>\n",
       "  </tbody>\n",
       "</table>\n",
       "</div>"
      ],
      "text/plain": [
       "       proxy_metric_new        on_off        issale\n",
       "count      1.353817e+06  1.353817e+06  1.353817e+06\n",
       "mean       2.378704e+01  2.408073e-01  1.692415e-01\n",
       "std        6.698688e+01  4.275737e-01  3.749652e-01\n",
       "min        0.000000e+00  0.000000e+00  0.000000e+00\n",
       "25%        0.000000e+00  0.000000e+00  0.000000e+00\n",
       "50%        0.000000e+00  0.000000e+00  0.000000e+00\n",
       "75%        0.000000e+00  0.000000e+00  0.000000e+00\n",
       "max        1.717640e+03  1.000000e+00  1.000000e+00"
      ]
     },
     "execution_count": 7,
     "metadata": {},
     "output_type": "execute_result"
    }
   ],
   "source": [
    "df.describe()"
   ]
  },
  {
   "cell_type": "code",
   "execution_count": 8,
   "metadata": {
    "scrolled": true
   },
   "outputs": [
    {
     "data": {
      "text/html": [
       "<div>\n",
       "<style scoped>\n",
       "    .dataframe tbody tr th:only-of-type {\n",
       "        vertical-align: middle;\n",
       "    }\n",
       "\n",
       "    .dataframe tbody tr th {\n",
       "        vertical-align: top;\n",
       "    }\n",
       "\n",
       "    .dataframe thead th {\n",
       "        text-align: right;\n",
       "    }\n",
       "</style>\n",
       "<table border=\"1\" class=\"dataframe\">\n",
       "  <thead>\n",
       "    <tr style=\"text-align: right;\">\n",
       "      <th></th>\n",
       "      <th>callid</th>\n",
       "      <th>liblactivite_vaca</th>\n",
       "      <th>customerid</th>\n",
       "    </tr>\n",
       "  </thead>\n",
       "  <tbody>\n",
       "    <tr>\n",
       "      <th>count</th>\n",
       "      <td>1353817</td>\n",
       "      <td>1353817</td>\n",
       "      <td>1353817</td>\n",
       "    </tr>\n",
       "    <tr>\n",
       "      <th>unique</th>\n",
       "      <td>1353816</td>\n",
       "      <td>3</td>\n",
       "      <td>897502</td>\n",
       "    </tr>\n",
       "    <tr>\n",
       "      <th>top</th>\n",
       "      <td>00001034171625560385</td>\n",
       "      <td>NUM COURTS</td>\n",
       "      <td>0187649431</td>\n",
       "    </tr>\n",
       "    <tr>\n",
       "      <th>freq</th>\n",
       "      <td>2</td>\n",
       "      <td>726369</td>\n",
       "      <td>2342</td>\n",
       "    </tr>\n",
       "  </tbody>\n",
       "</table>\n",
       "</div>"
      ],
      "text/plain": [
       "                      callid liblactivite_vaca  customerid\n",
       "count                1353817           1353817     1353817\n",
       "unique               1353816                 3      897502\n",
       "top     00001034171625560385        NUM COURTS  0187649431\n",
       "freq                       2            726369        2342"
      ]
     },
     "execution_count": 8,
     "metadata": {},
     "output_type": "execute_result"
    }
   ],
   "source": [
    "df.describe(include= \"object\")"
   ]
  },
  {
   "cell_type": "markdown",
   "metadata": {},
   "source": [
    "### 2) Null Value Analysis"
   ]
  },
  {
   "cell_type": "code",
   "execution_count": 10,
   "metadata": {
    "scrolled": true
   },
   "outputs": [
    {
     "data": {
      "text/plain": [
       "date_col             0\n",
       "datetime_col         0\n",
       "callid               0\n",
       "liblactivite_vaca    0\n",
       "customerid           0\n",
       "proxy_metric_new     0\n",
       "on_off               0\n",
       "issale               0\n",
       "dtype: int64"
      ]
     },
     "execution_count": 10,
     "metadata": {},
     "output_type": "execute_result"
    }
   ],
   "source": [
    "df.isnull().sum()"
   ]
  },
  {
   "cell_type": "code",
   "execution_count": 11,
   "metadata": {},
   "outputs": [],
   "source": [
    "cnt=0\n",
    "for row in df['customerid']:\n",
    "    if(len(str(row))!=10) or (any(c.isalpha()for c in row)):\n",
    "        df.loc[cnt,'customerid']=np.nan\n",
    "    cnt+=1\n",
    "    \n",
    "df=df[pd.notnull(df['customerid'])]    #we can also use dropna function as well\n",
    "df=df[(df['proxy_metric_new']>=0)]"
   ]
  },
  {
   "cell_type": "code",
   "execution_count": 14,
   "metadata": {
    "scrolled": true
   },
   "outputs": [
    {
     "data": {
      "text/plain": [
       "date_col             0\n",
       "datetime_col         0\n",
       "callid               0\n",
       "liblactivite_vaca    0\n",
       "customerid           0\n",
       "proxy_metric_new     0\n",
       "on_off               0\n",
       "issale               0\n",
       "dtype: int64"
      ]
     },
     "execution_count": 14,
     "metadata": {},
     "output_type": "execute_result"
    }
   ],
   "source": [
    "df.isnull().sum()"
   ]
  },
  {
   "cell_type": "code",
   "execution_count": 15,
   "metadata": {
    "scrolled": true
   },
   "outputs": [
    {
     "name": "stdout",
     "output_type": "stream",
     "text": [
      "<class 'pandas.core.frame.DataFrame'>\n",
      "Int64Index: 1353817 entries, 0 to 1353816\n",
      "Data columns (total 8 columns):\n",
      "date_col             1353817 non-null datetime64[ns]\n",
      "datetime_col         1353817 non-null datetime64[ns]\n",
      "callid               1353817 non-null object\n",
      "liblactivite_vaca    1353817 non-null object\n",
      "customerid           1353817 non-null object\n",
      "proxy_metric_new     1353817 non-null float64\n",
      "on_off               1353817 non-null int64\n",
      "issale               1353817 non-null int64\n",
      "dtypes: datetime64[ns](2), float64(1), int64(2), object(3)\n",
      "memory usage: 93.0+ MB\n"
     ]
    }
   ],
   "source": [
    "df.info()"
   ]
  },
  {
   "cell_type": "markdown",
   "metadata": {},
   "source": [
    "### 4) Month Wise Statistics"
   ]
  },
  {
   "cell_type": "code",
   "execution_count": 16,
   "metadata": {
    "scrolled": true
   },
   "outputs": [],
   "source": [
    "df[\"Month\"]=df[\"date_col\"].dt.month"
   ]
  },
  {
   "cell_type": "code",
   "execution_count": 17,
   "metadata": {
    "scrolled": true
   },
   "outputs": [
    {
     "data": {
      "text/html": [
       "<div>\n",
       "<style scoped>\n",
       "    .dataframe tbody tr th:only-of-type {\n",
       "        vertical-align: middle;\n",
       "    }\n",
       "\n",
       "    .dataframe tbody tr th {\n",
       "        vertical-align: top;\n",
       "    }\n",
       "\n",
       "    .dataframe thead tr th {\n",
       "        text-align: left;\n",
       "    }\n",
       "\n",
       "    .dataframe thead tr:last-of-type th {\n",
       "        text-align: right;\n",
       "    }\n",
       "</style>\n",
       "<table border=\"1\" class=\"dataframe\">\n",
       "  <thead>\n",
       "    <tr>\n",
       "      <th></th>\n",
       "      <th colspan=\"2\" halign=\"left\">proxy_metric_new</th>\n",
       "      <th>callid</th>\n",
       "      <th>customerid</th>\n",
       "    </tr>\n",
       "    <tr>\n",
       "      <th></th>\n",
       "      <th>mean</th>\n",
       "      <th>sum</th>\n",
       "      <th>nunique</th>\n",
       "      <th>nunique</th>\n",
       "    </tr>\n",
       "    <tr>\n",
       "      <th>Month</th>\n",
       "      <th></th>\n",
       "      <th></th>\n",
       "      <th></th>\n",
       "      <th></th>\n",
       "    </tr>\n",
       "  </thead>\n",
       "  <tbody>\n",
       "    <tr>\n",
       "      <th>1</th>\n",
       "      <td>38.458459</td>\n",
       "      <td>719903.89</td>\n",
       "      <td>18719</td>\n",
       "      <td>15598</td>\n",
       "    </tr>\n",
       "    <tr>\n",
       "      <th>3</th>\n",
       "      <td>21.472359</td>\n",
       "      <td>2388391.93</td>\n",
       "      <td>111231</td>\n",
       "      <td>74357</td>\n",
       "    </tr>\n",
       "    <tr>\n",
       "      <th>4</th>\n",
       "      <td>23.431274</td>\n",
       "      <td>2938539.46</td>\n",
       "      <td>125411</td>\n",
       "      <td>84103</td>\n",
       "    </tr>\n",
       "    <tr>\n",
       "      <th>5</th>\n",
       "      <td>22.802424</td>\n",
       "      <td>2680630.17</td>\n",
       "      <td>117559</td>\n",
       "      <td>82208</td>\n",
       "    </tr>\n",
       "    <tr>\n",
       "      <th>6</th>\n",
       "      <td>18.890562</td>\n",
       "      <td>2432896.56</td>\n",
       "      <td>128789</td>\n",
       "      <td>94635</td>\n",
       "    </tr>\n",
       "    <tr>\n",
       "      <th>7</th>\n",
       "      <td>21.171178</td>\n",
       "      <td>2670214.81</td>\n",
       "      <td>126124</td>\n",
       "      <td>95482</td>\n",
       "    </tr>\n",
       "    <tr>\n",
       "      <th>8</th>\n",
       "      <td>20.925945</td>\n",
       "      <td>3270160.19</td>\n",
       "      <td>156273</td>\n",
       "      <td>114011</td>\n",
       "    </tr>\n",
       "    <tr>\n",
       "      <th>9</th>\n",
       "      <td>22.235520</td>\n",
       "      <td>3490153.99</td>\n",
       "      <td>156963</td>\n",
       "      <td>118375</td>\n",
       "    </tr>\n",
       "    <tr>\n",
       "      <th>10</th>\n",
       "      <td>25.594453</td>\n",
       "      <td>3501833.05</td>\n",
       "      <td>136820</td>\n",
       "      <td>103204</td>\n",
       "    </tr>\n",
       "    <tr>\n",
       "      <th>11</th>\n",
       "      <td>25.938452</td>\n",
       "      <td>3435107.07</td>\n",
       "      <td>132433</td>\n",
       "      <td>103435</td>\n",
       "    </tr>\n",
       "    <tr>\n",
       "      <th>12</th>\n",
       "      <td>32.583029</td>\n",
       "      <td>4675469.11</td>\n",
       "      <td>143494</td>\n",
       "      <td>109653</td>\n",
       "    </tr>\n",
       "  </tbody>\n",
       "</table>\n",
       "</div>"
      ],
      "text/plain": [
       "      proxy_metric_new              callid customerid\n",
       "                  mean         sum nunique    nunique\n",
       "Month                                                \n",
       "1            38.458459   719903.89   18719      15598\n",
       "3            21.472359  2388391.93  111231      74357\n",
       "4            23.431274  2938539.46  125411      84103\n",
       "5            22.802424  2680630.17  117559      82208\n",
       "6            18.890562  2432896.56  128789      94635\n",
       "7            21.171178  2670214.81  126124      95482\n",
       "8            20.925945  3270160.19  156273     114011\n",
       "9            22.235520  3490153.99  156963     118375\n",
       "10           25.594453  3501833.05  136820     103204\n",
       "11           25.938452  3435107.07  132433     103435\n",
       "12           32.583029  4675469.11  143494     109653"
      ]
     },
     "execution_count": 17,
     "metadata": {},
     "output_type": "execute_result"
    }
   ],
   "source": [
    "df.groupby(\n",
    "    ['Month']\n",
    ").agg(\n",
    "    {\n",
    "        'proxy_metric_new': [\"mean\", sum],\n",
    "        'callid': \"nunique\", \n",
    "        'customerid': \"nunique\",\n",
    "    }\n",
    ")"
   ]
  },
  {
   "cell_type": "markdown",
   "metadata": {},
   "source": [
    "### 5) Activity Wise Statistics"
   ]
  },
  {
   "cell_type": "code",
   "execution_count": 18,
   "metadata": {
    "scrolled": true
   },
   "outputs": [
    {
     "data": {
      "text/html": [
       "<div>\n",
       "<style scoped>\n",
       "    .dataframe tbody tr th:only-of-type {\n",
       "        vertical-align: middle;\n",
       "    }\n",
       "\n",
       "    .dataframe tbody tr th {\n",
       "        vertical-align: top;\n",
       "    }\n",
       "\n",
       "    .dataframe thead tr th {\n",
       "        text-align: left;\n",
       "    }\n",
       "\n",
       "    .dataframe thead tr:last-of-type th {\n",
       "        text-align: right;\n",
       "    }\n",
       "</style>\n",
       "<table border=\"1\" class=\"dataframe\">\n",
       "  <thead>\n",
       "    <tr>\n",
       "      <th></th>\n",
       "      <th colspan=\"2\" halign=\"left\">proxy_metric_new</th>\n",
       "      <th>callid</th>\n",
       "      <th>customerid</th>\n",
       "    </tr>\n",
       "    <tr>\n",
       "      <th></th>\n",
       "      <th>mean</th>\n",
       "      <th>sum</th>\n",
       "      <th>nunique</th>\n",
       "      <th>nunique</th>\n",
       "    </tr>\n",
       "    <tr>\n",
       "      <th>liblactivite_vaca</th>\n",
       "      <th></th>\n",
       "      <th></th>\n",
       "      <th></th>\n",
       "      <th></th>\n",
       "    </tr>\n",
       "  </thead>\n",
       "  <tbody>\n",
       "    <tr>\n",
       "      <th>C2C</th>\n",
       "      <td>27.822830</td>\n",
       "      <td>9.644673e+06</td>\n",
       "      <td>346645</td>\n",
       "      <td>243963</td>\n",
       "    </tr>\n",
       "    <tr>\n",
       "      <th>NECTAR</th>\n",
       "      <td>24.402735</td>\n",
       "      <td>6.852337e+06</td>\n",
       "      <td>280802</td>\n",
       "      <td>232598</td>\n",
       "    </tr>\n",
       "    <tr>\n",
       "      <th>NUM COURTS</th>\n",
       "      <td>21.623019</td>\n",
       "      <td>1.570629e+07</td>\n",
       "      <td>726369</td>\n",
       "      <td>471119</td>\n",
       "    </tr>\n",
       "  </tbody>\n",
       "</table>\n",
       "</div>"
      ],
      "text/plain": [
       "                  proxy_metric_new                callid customerid\n",
       "                              mean           sum nunique    nunique\n",
       "liblactivite_vaca                                                  \n",
       "C2C                      27.822830  9.644673e+06  346645     243963\n",
       "NECTAR                   24.402735  6.852337e+06  280802     232598\n",
       "NUM COURTS               21.623019  1.570629e+07  726369     471119"
      ]
     },
     "execution_count": 18,
     "metadata": {},
     "output_type": "execute_result"
    }
   ],
   "source": [
    "df.groupby(\n",
    "    ['liblactivite_vaca']\n",
    ").agg(\n",
    "    {\n",
    "       'proxy_metric_new': [\"mean\", sum],\n",
    "        'callid': \"nunique\", \n",
    "        'customerid': \"nunique\",\n",
    "    }\n",
    ")"
   ]
  },
  {
   "cell_type": "markdown",
   "metadata": {},
   "source": [
    "## 6) Customer Wise Analysis using RFM Quantitative Technique"
   ]
  },
  {
   "cell_type": "markdown",
   "metadata": {},
   "source": [
    "#### This part will analyze the behaviour of customer and catagorize each customer to be paid attention furtherly."
   ]
  },
  {
   "cell_type": "markdown",
   "metadata": {},
   "source": [
    "*  To define recency, we need to find the range of time from latest purchase to each purchase time on the dataset.\n",
    "*  After that, we define frequent by summing up ordered items of each customer\n",
    "*  To define monetary we sum up ordered items values of each customer."
   ]
  },
  {
   "cell_type": "code",
   "execution_count": 201,
   "metadata": {
    "scrolled": true
   },
   "outputs": [
    {
     "name": "stdout",
     "output_type": "stream",
     "text": [
      "2022-01-06 00:00:00\n"
     ]
    }
   ],
   "source": [
    "max_date = max(df.date_col) + dt.timedelta(days=1)\n",
    "print(max_date)"
   ]
  },
  {
   "cell_type": "code",
   "execution_count": 204,
   "metadata": {},
   "outputs": [],
   "source": [
    "rfm_start_time=dt.datetime.now()"
   ]
  },
  {
   "cell_type": "code",
   "execution_count": 205,
   "metadata": {
    "scrolled": true
   },
   "outputs": [
    {
     "data": {
      "text/html": [
       "<div>\n",
       "<style scoped>\n",
       "    .dataframe tbody tr th:only-of-type {\n",
       "        vertical-align: middle;\n",
       "    }\n",
       "\n",
       "    .dataframe tbody tr th {\n",
       "        vertical-align: top;\n",
       "    }\n",
       "\n",
       "    .dataframe thead th {\n",
       "        text-align: right;\n",
       "    }\n",
       "</style>\n",
       "<table border=\"1\" class=\"dataframe\">\n",
       "  <thead>\n",
       "    <tr style=\"text-align: right;\">\n",
       "      <th></th>\n",
       "      <th>Recency</th>\n",
       "      <th>Frequency</th>\n",
       "      <th>MonetaryValue</th>\n",
       "    </tr>\n",
       "    <tr>\n",
       "      <th>customerid</th>\n",
       "      <th></th>\n",
       "      <th></th>\n",
       "      <th></th>\n",
       "    </tr>\n",
       "  </thead>\n",
       "  <tbody>\n",
       "    <tr>\n",
       "      <th>0003503118</th>\n",
       "      <td>234</td>\n",
       "      <td>3</td>\n",
       "      <td>0.00</td>\n",
       "    </tr>\n",
       "    <tr>\n",
       "      <th>0014521825</th>\n",
       "      <td>159</td>\n",
       "      <td>1</td>\n",
       "      <td>0.00</td>\n",
       "    </tr>\n",
       "    <tr>\n",
       "      <th>0022804213</th>\n",
       "      <td>285</td>\n",
       "      <td>3</td>\n",
       "      <td>0.00</td>\n",
       "    </tr>\n",
       "    <tr>\n",
       "      <th>0027250175</th>\n",
       "      <td>114</td>\n",
       "      <td>1</td>\n",
       "      <td>0.00</td>\n",
       "    </tr>\n",
       "    <tr>\n",
       "      <th>0032909491</th>\n",
       "      <td>178</td>\n",
       "      <td>1</td>\n",
       "      <td>134.73</td>\n",
       "    </tr>\n",
       "  </tbody>\n",
       "</table>\n",
       "</div>"
      ],
      "text/plain": [
       "            Recency  Frequency  MonetaryValue\n",
       "customerid                                   \n",
       "0003503118      234          3           0.00\n",
       "0014521825      159          1           0.00\n",
       "0022804213      285          3           0.00\n",
       "0027250175      114          1           0.00\n",
       "0032909491      178          1         134.73"
      ]
     },
     "execution_count": 205,
     "metadata": {},
     "output_type": "execute_result"
    }
   ],
   "source": [
    "RFM_data = df.groupby(['customerid']).agg({'date_col': lambda x: (max_date - x.max()).days,\n",
    "                                           'callid': 'nunique',\n",
    "                                           'proxy_metric_new': 'sum'})\n",
    "\n",
    "RFM_data.rename(columns = {'date_col': 'Recency',\n",
    "                           'callid': 'Frequency',\n",
    "                           'proxy_metric_new': 'MonetaryValue'},\n",
    "                inplace=True)\n",
    "RFM_data.head()"
   ]
  },
  {
   "cell_type": "code",
   "execution_count": 206,
   "metadata": {
    "scrolled": true
   },
   "outputs": [],
   "source": [
    "df_1=df[(df['proxy_metric_new']>0)]\n",
    "\n",
    "RFM_data_1 = df_1.groupby(['customerid']).agg({'date_col': lambda x: (max_date - x.max()).days,\n",
    "                                           'callid': 'count',\n",
    "                                           'proxy_metric_new': 'sum'})\n",
    "\n",
    "RFM_data_1.rename(columns = {'date_col': 'Recency',\n",
    "                           'callid': 'Frequency',\n",
    "                           'proxy_metric_new': 'MonetaryValue'},\n",
    "                inplace=True)\n",
    "Monetary_Qs_df=RFM_data_1.describe()\n",
    "Monetary_min=Monetary_Qs_df.loc[\"min\",\"MonetaryValue\"]\n",
    "Monetary_25=Monetary_Qs_df.loc[\"25%\",\"MonetaryValue\"]\n",
    "Monetary_50=Monetary_Qs_df.loc[\"50%\",\"MonetaryValue\"]\n",
    "Monetary_75=Monetary_Qs_df.loc[\"75%\",\"MonetaryValue\"]\n",
    "Monetary_max=Monetary_Qs_df.loc[\"max\",\"MonetaryValue\"]"
   ]
  },
  {
   "cell_type": "markdown",
   "metadata": {},
   "source": [
    "#### Next, we will perform descretization with respect to quantiles. They will be rank 1 to 5, with rank 1 as the highest and rank 5 as the lowest"
   ]
  },
  {
   "cell_type": "code",
   "execution_count": 209,
   "metadata": {
    "scrolled": true
   },
   "outputs": [],
   "source": [
    "r_labels = range(5,0,-1)\n",
    "r_quartiles = pd.qcut(RFM_data['Recency'], 5, labels = r_labels )\n",
    "RFM_data = RFM_data.assign(R = r_quartiles.values)"
   ]
  },
  {
   "cell_type": "code",
   "execution_count": 210,
   "metadata": {
    "scrolled": true
   },
   "outputs": [],
   "source": [
    "RFM_data['F']= np.where((RFM_data['Frequency']<=1),1,\n",
    "                        np.where((RFM_data['Frequency']==2),2,\n",
    "                               np.where((RFM_data['Frequency']==3),3,\n",
    "                                       np.where((RFM_data['Frequency']==4),4,5))))"
   ]
  },
  {
   "cell_type": "code",
   "execution_count": 211,
   "metadata": {
    "scrolled": true
   },
   "outputs": [],
   "source": [
    "RFM_data['M']=np.where((RFM_data['MonetaryValue']==0),1,\n",
    "                      np.where((RFM_data['MonetaryValue']>=Monetary_min) & (RFM_data['MonetaryValue']<Monetary_25),2,\n",
    "                          np.where((RFM_data['MonetaryValue']>=Monetary_25) & (RFM_data['MonetaryValue']<Monetary_50),3,\n",
    "                             np.where((RFM_data['MonetaryValue']>=Monetary_50) & (RFM_data['MonetaryValue']<Monetary_75),4\n",
    "                                               ,5))))"
   ]
  },
  {
   "cell_type": "code",
   "execution_count": 212,
   "metadata": {
    "scrolled": true
   },
   "outputs": [
    {
     "data": {
      "text/html": [
       "<div>\n",
       "<style scoped>\n",
       "    .dataframe tbody tr th:only-of-type {\n",
       "        vertical-align: middle;\n",
       "    }\n",
       "\n",
       "    .dataframe tbody tr th {\n",
       "        vertical-align: top;\n",
       "    }\n",
       "\n",
       "    .dataframe thead th {\n",
       "        text-align: right;\n",
       "    }\n",
       "</style>\n",
       "<table border=\"1\" class=\"dataframe\">\n",
       "  <thead>\n",
       "    <tr style=\"text-align: right;\">\n",
       "      <th></th>\n",
       "      <th>Recency</th>\n",
       "      <th>Frequency</th>\n",
       "      <th>MonetaryValue</th>\n",
       "      <th>R</th>\n",
       "      <th>F</th>\n",
       "      <th>M</th>\n",
       "    </tr>\n",
       "    <tr>\n",
       "      <th>customerid</th>\n",
       "      <th></th>\n",
       "      <th></th>\n",
       "      <th></th>\n",
       "      <th></th>\n",
       "      <th></th>\n",
       "      <th></th>\n",
       "    </tr>\n",
       "  </thead>\n",
       "  <tbody>\n",
       "    <tr>\n",
       "      <th>0003503118</th>\n",
       "      <td>234</td>\n",
       "      <td>3</td>\n",
       "      <td>0.00</td>\n",
       "      <td>1</td>\n",
       "      <td>3</td>\n",
       "      <td>1</td>\n",
       "    </tr>\n",
       "    <tr>\n",
       "      <th>0014521825</th>\n",
       "      <td>159</td>\n",
       "      <td>1</td>\n",
       "      <td>0.00</td>\n",
       "      <td>3</td>\n",
       "      <td>1</td>\n",
       "      <td>1</td>\n",
       "    </tr>\n",
       "    <tr>\n",
       "      <th>0022804213</th>\n",
       "      <td>285</td>\n",
       "      <td>3</td>\n",
       "      <td>0.00</td>\n",
       "      <td>1</td>\n",
       "      <td>3</td>\n",
       "      <td>1</td>\n",
       "    </tr>\n",
       "    <tr>\n",
       "      <th>0027250175</th>\n",
       "      <td>114</td>\n",
       "      <td>1</td>\n",
       "      <td>0.00</td>\n",
       "      <td>3</td>\n",
       "      <td>1</td>\n",
       "      <td>1</td>\n",
       "    </tr>\n",
       "    <tr>\n",
       "      <th>0032909491</th>\n",
       "      <td>178</td>\n",
       "      <td>1</td>\n",
       "      <td>134.73</td>\n",
       "      <td>2</td>\n",
       "      <td>1</td>\n",
       "      <td>4</td>\n",
       "    </tr>\n",
       "  </tbody>\n",
       "</table>\n",
       "</div>"
      ],
      "text/plain": [
       "            Recency  Frequency  MonetaryValue  R  F  M\n",
       "customerid                                            \n",
       "0003503118      234          3           0.00  1  3  1\n",
       "0014521825      159          1           0.00  3  1  1\n",
       "0022804213      285          3           0.00  1  3  1\n",
       "0027250175      114          1           0.00  3  1  1\n",
       "0032909491      178          1         134.73  2  1  4"
      ]
     },
     "execution_count": 212,
     "metadata": {},
     "output_type": "execute_result"
    }
   ],
   "source": [
    "RFM_data.head()"
   ]
  },
  {
   "cell_type": "code",
   "execution_count": 213,
   "metadata": {},
   "outputs": [
    {
     "name": "stdout",
     "output_type": "stream",
     "text": [
      "Time Taken for only RFM creation:  0:02:12.065847\n"
     ]
    }
   ],
   "source": [
    "rfm_end_time=dt.datetime.now()\n",
    "print('Time Taken for only RFM creation: ',rfm_end_time-rfm_start_time)"
   ]
  },
  {
   "cell_type": "code",
   "execution_count": 214,
   "metadata": {},
   "outputs": [
    {
     "name": "stdout",
     "output_type": "stream",
     "text": [
      "Time Taken for Clumpiness creation:  0:05:31.489241\n"
     ]
    }
   ],
   "source": [
    "## add clumpiness part here\n",
    "t1=dt.datetime.now()\n",
    "clumpiness=pd.pivot_table(df, values='callid', index='customerid', columns='date_col', aggfunc='count')\n",
    "clumpiness.fillna(0,inplace=True)\n",
    "result=[]\n",
    "for i in range(len(clumpiness)):\n",
    "    #print(runstest_1samp(list(xyz.values[i]), correction = False)[1])\n",
    "    result.append(runstest_1samp(list(clumpiness.values[i]), correction = False)[1])\n",
    "\n",
    "clumpiness[\"result\"]=result\n",
    "clumpiness.reset_index(drop = False, inplace=True,level=0)\n",
    "clumpiness=clumpiness[['customerid','result']]\n",
    "clumpiness.columns.name=None\n",
    "clumpiness.rename(columns={'result':'Clumpiness'},inplace=True)\n",
    "clumpiness['C']=clumpiness['Clumpiness'].apply(lambda x: 1 if x>0.9 \n",
    "                                               else (2 if x>0.8 \n",
    "                                                     else (3 if x>0.1 \n",
    "                                                           else (4 if x>0.0005 \n",
    "                                                                 else 5))))\n",
    "t2=dt.datetime.now()\n",
    "print(\"Time Taken for Clumpiness creation: \",t2-t1)"
   ]
  },
  {
   "cell_type": "code",
   "execution_count": 215,
   "metadata": {},
   "outputs": [],
   "source": [
    "RFMC_data=pd.merge(RFM_data,clumpiness, on='customerid', how='left')"
   ]
  },
  {
   "cell_type": "markdown",
   "metadata": {},
   "source": [
    "#### Making RFMC_segment by concatenate RFMC and RFM_Score by adding RFMC"
   ]
  },
  {
   "cell_type": "code",
   "execution_count": 216,
   "metadata": {
    "scrolled": true
   },
   "outputs": [],
   "source": [
    "def join_rfm(x):return (str(x['R']) + str(x['F']) + str(x['M']) + str(x['C']))\n",
    "RFMC_data['RFMC_Segment'] = RFMC_data.apply(join_rfm, axis=1)\n",
    "RFMC_data['RFMC_Score'] = RFMC_data[['R','F','M','C']].sum(axis=1).astype(int)\n",
    "Loyalty_Level = ['Wood','Iron', 'Bronze','Silver','Gold','Platinum']\n",
    "Score_cuts = pd.qcut(RFMC_data.RFMC_Score, q = 6, labels = Loyalty_Level)\n",
    "RFMC_data['RFMC_Loyalty_Level'] = Score_cuts.values\n",
    "RFMC_data.reset_index(drop=True, inplace=True)\n",
    "RFMC_data=RFMC_data[['customerid', 'Recency', 'Frequency', 'MonetaryValue', 'Clumpiness','R', 'F', 'M', 'C',\n",
    "       'RFMC_Segment', 'RFMC_Score', 'RFMC_Loyalty_Level']]\n",
    "print(\"Time taken to create complete RFMC: \", dt.datetime.now()-rfm_start_time)"
   ]
  },
  {
   "cell_type": "code",
   "execution_count": 220,
   "metadata": {
    "scrolled": true
   },
   "outputs": [
    {
     "data": {
      "text/html": [
       "<div>\n",
       "<style scoped>\n",
       "    .dataframe tbody tr th:only-of-type {\n",
       "        vertical-align: middle;\n",
       "    }\n",
       "\n",
       "    .dataframe tbody tr th {\n",
       "        vertical-align: top;\n",
       "    }\n",
       "\n",
       "    .dataframe thead tr th {\n",
       "        text-align: left;\n",
       "    }\n",
       "\n",
       "    .dataframe thead tr:last-of-type th {\n",
       "        text-align: right;\n",
       "    }\n",
       "</style>\n",
       "<table border=\"1\" class=\"dataframe\">\n",
       "  <thead>\n",
       "    <tr>\n",
       "      <th></th>\n",
       "      <th colspan=\"4\" halign=\"left\">Recency</th>\n",
       "      <th colspan=\"4\" halign=\"left\">Frequency</th>\n",
       "      <th colspan=\"4\" halign=\"left\">MonetaryValue</th>\n",
       "      <th colspan=\"4\" halign=\"left\">Clumpiness</th>\n",
       "      <th colspan=\"4\" halign=\"left\">RFMC_Score</th>\n",
       "    </tr>\n",
       "    <tr>\n",
       "      <th></th>\n",
       "      <th>mean</th>\n",
       "      <th>min</th>\n",
       "      <th>max</th>\n",
       "      <th>count</th>\n",
       "      <th>mean</th>\n",
       "      <th>min</th>\n",
       "      <th>max</th>\n",
       "      <th>count</th>\n",
       "      <th>mean</th>\n",
       "      <th>min</th>\n",
       "      <th>max</th>\n",
       "      <th>count</th>\n",
       "      <th>mean</th>\n",
       "      <th>min</th>\n",
       "      <th>max</th>\n",
       "      <th>count</th>\n",
       "      <th>mean</th>\n",
       "      <th>min</th>\n",
       "      <th>max</th>\n",
       "      <th>count</th>\n",
       "    </tr>\n",
       "    <tr>\n",
       "      <th>RFMC_Loyalty_Level</th>\n",
       "      <th></th>\n",
       "      <th></th>\n",
       "      <th></th>\n",
       "      <th></th>\n",
       "      <th></th>\n",
       "      <th></th>\n",
       "      <th></th>\n",
       "      <th></th>\n",
       "      <th></th>\n",
       "      <th></th>\n",
       "      <th></th>\n",
       "      <th></th>\n",
       "      <th></th>\n",
       "      <th></th>\n",
       "      <th></th>\n",
       "      <th></th>\n",
       "      <th></th>\n",
       "      <th></th>\n",
       "      <th></th>\n",
       "      <th></th>\n",
       "    </tr>\n",
       "  </thead>\n",
       "  <tbody>\n",
       "    <tr>\n",
       "      <th>Wood</th>\n",
       "      <td>236.395569</td>\n",
       "      <td>164</td>\n",
       "      <td>310</td>\n",
       "      <td>233562</td>\n",
       "      <td>1.065803</td>\n",
       "      <td>1</td>\n",
       "      <td>2</td>\n",
       "      <td>233562</td>\n",
       "      <td>0.887749</td>\n",
       "      <td>0.0</td>\n",
       "      <td>75.06</td>\n",
       "      <td>233562</td>\n",
       "      <td>0.935565</td>\n",
       "      <td>9.355651e-01</td>\n",
       "      <td>0.935565</td>\n",
       "      <td>233562</td>\n",
       "      <td>4.553301</td>\n",
       "      <td>4</td>\n",
       "      <td>5</td>\n",
       "      <td>233562</td>\n",
       "    </tr>\n",
       "    <tr>\n",
       "      <th>Iron</th>\n",
       "      <td>158.779479</td>\n",
       "      <td>111</td>\n",
       "      <td>310</td>\n",
       "      <td>138762</td>\n",
       "      <td>1.165528</td>\n",
       "      <td>1</td>\n",
       "      <td>3</td>\n",
       "      <td>138762</td>\n",
       "      <td>6.420657</td>\n",
       "      <td>0.0</td>\n",
       "      <td>124.91</td>\n",
       "      <td>138762</td>\n",
       "      <td>0.934073</td>\n",
       "      <td>8.946841e-01</td>\n",
       "      <td>0.935565</td>\n",
       "      <td>138762</td>\n",
       "      <td>6.000000</td>\n",
       "      <td>6</td>\n",
       "      <td>6</td>\n",
       "      <td>138762</td>\n",
       "    </tr>\n",
       "    <tr>\n",
       "      <th>Bronze</th>\n",
       "      <td>116.744511</td>\n",
       "      <td>54</td>\n",
       "      <td>310</td>\n",
       "      <td>151674</td>\n",
       "      <td>1.208579</td>\n",
       "      <td>1</td>\n",
       "      <td>4</td>\n",
       "      <td>151674</td>\n",
       "      <td>14.222283</td>\n",
       "      <td>0.0</td>\n",
       "      <td>201.28</td>\n",
       "      <td>151674</td>\n",
       "      <td>0.932739</td>\n",
       "      <td>8.501109e-01</td>\n",
       "      <td>0.935565</td>\n",
       "      <td>151674</td>\n",
       "      <td>7.000000</td>\n",
       "      <td>7</td>\n",
       "      <td>7</td>\n",
       "      <td>151674</td>\n",
       "    </tr>\n",
       "    <tr>\n",
       "      <th>Silver</th>\n",
       "      <td>79.022661</td>\n",
       "      <td>2</td>\n",
       "      <td>310</td>\n",
       "      <td>158203</td>\n",
       "      <td>1.248364</td>\n",
       "      <td>1</td>\n",
       "      <td>21</td>\n",
       "      <td>158203</td>\n",
       "      <td>30.489015</td>\n",
       "      <td>0.0</td>\n",
       "      <td>1200.06</td>\n",
       "      <td>158203</td>\n",
       "      <td>0.931650</td>\n",
       "      <td>8.051444e-01</td>\n",
       "      <td>0.935565</td>\n",
       "      <td>158203</td>\n",
       "      <td>8.000000</td>\n",
       "      <td>8</td>\n",
       "      <td>8</td>\n",
       "      <td>158203</td>\n",
       "    </tr>\n",
       "    <tr>\n",
       "      <th>Gold</th>\n",
       "      <td>104.428689</td>\n",
       "      <td>2</td>\n",
       "      <td>310</td>\n",
       "      <td>108559</td>\n",
       "      <td>1.910841</td>\n",
       "      <td>1</td>\n",
       "      <td>22</td>\n",
       "      <td>108559</td>\n",
       "      <td>77.187181</td>\n",
       "      <td>0.0</td>\n",
       "      <td>1366.78</td>\n",
       "      <td>108559</td>\n",
       "      <td>0.882160</td>\n",
       "      <td>3.304995e-37</td>\n",
       "      <td>0.935565</td>\n",
       "      <td>108559</td>\n",
       "      <td>9.454223</td>\n",
       "      <td>9</td>\n",
       "      <td>10</td>\n",
       "      <td>108559</td>\n",
       "    </tr>\n",
       "    <tr>\n",
       "      <th>Platinum</th>\n",
       "      <td>83.059030</td>\n",
       "      <td>1</td>\n",
       "      <td>310</td>\n",
       "      <td>106742</td>\n",
       "      <td>3.324933</td>\n",
       "      <td>1</td>\n",
       "      <td>2342</td>\n",
       "      <td>106742</td>\n",
       "      <td>147.505623</td>\n",
       "      <td>0.0</td>\n",
       "      <td>32534.83</td>\n",
       "      <td>106742</td>\n",
       "      <td>0.596001</td>\n",
       "      <td>1.788495e-57</td>\n",
       "      <td>0.945493</td>\n",
       "      <td>106742</td>\n",
       "      <td>12.745424</td>\n",
       "      <td>11</td>\n",
       "      <td>20</td>\n",
       "      <td>106742</td>\n",
       "    </tr>\n",
       "  </tbody>\n",
       "</table>\n",
       "</div>"
      ],
      "text/plain": [
       "                       Recency                   Frequency                    \\\n",
       "                          mean  min  max   count      mean min   max   count   \n",
       "RFMC_Loyalty_Level                                                             \n",
       "Wood                236.395569  164  310  233562  1.065803   1     2  233562   \n",
       "Iron                158.779479  111  310  138762  1.165528   1     3  138762   \n",
       "Bronze              116.744511   54  310  151674  1.208579   1     4  151674   \n",
       "Silver               79.022661    2  310  158203  1.248364   1    21  158203   \n",
       "Gold                104.428689    2  310  108559  1.910841   1    22  108559   \n",
       "Platinum             83.059030    1  310  106742  3.324933   1  2342  106742   \n",
       "\n",
       "                   MonetaryValue                        Clumpiness  \\\n",
       "                            mean  min       max   count       mean   \n",
       "RFMC_Loyalty_Level                                                   \n",
       "Wood                    0.887749  0.0     75.06  233562   0.935565   \n",
       "Iron                    6.420657  0.0    124.91  138762   0.934073   \n",
       "Bronze                 14.222283  0.0    201.28  151674   0.932739   \n",
       "Silver                 30.489015  0.0   1200.06  158203   0.931650   \n",
       "Gold                   77.187181  0.0   1366.78  108559   0.882160   \n",
       "Platinum              147.505623  0.0  32534.83  106742   0.596001   \n",
       "\n",
       "                                                   RFMC_Score                  \n",
       "                             min       max   count       mean min max   count  \n",
       "RFMC_Loyalty_Level                                                             \n",
       "Wood                9.355651e-01  0.935565  233562   4.553301   4   5  233562  \n",
       "Iron                8.946841e-01  0.935565  138762   6.000000   6   6  138762  \n",
       "Bronze              8.501109e-01  0.935565  151674   7.000000   7   7  151674  \n",
       "Silver              8.051444e-01  0.935565  158203   8.000000   8   8  158203  \n",
       "Gold                3.304995e-37  0.935565  108559   9.454223   9  10  108559  \n",
       "Platinum            1.788495e-57  0.945493  106742  12.745424  11  20  106742  "
      ]
     },
     "execution_count": 220,
     "metadata": {},
     "output_type": "execute_result"
    }
   ],
   "source": [
    "RFMC_data[[\"RFMC_Loyalty_Level\", \"Recency\", \"Frequency\", \"MonetaryValue\",\"Clumpiness\", \"RFMC_Score\"]].groupby(\"RFMC_Loyalty_Level\").agg(\n",
    "    [\"mean\",\"min\",\"max\", \"count\"])"
   ]
  },
  {
   "cell_type": "code",
   "execution_count": 240,
   "metadata": {},
   "outputs": [],
   "source": [
    "RFMC_data.set_index('customerid',inplace=True)"
   ]
  },
  {
   "cell_type": "code",
   "execution_count": 241,
   "metadata": {},
   "outputs": [
    {
     "data": {
      "text/html": [
       "<div>\n",
       "<style scoped>\n",
       "    .dataframe tbody tr th:only-of-type {\n",
       "        vertical-align: middle;\n",
       "    }\n",
       "\n",
       "    .dataframe tbody tr th {\n",
       "        vertical-align: top;\n",
       "    }\n",
       "\n",
       "    .dataframe thead th {\n",
       "        text-align: right;\n",
       "    }\n",
       "</style>\n",
       "<table border=\"1\" class=\"dataframe\">\n",
       "  <thead>\n",
       "    <tr style=\"text-align: right;\">\n",
       "      <th></th>\n",
       "      <th>Recency</th>\n",
       "      <th>Frequency</th>\n",
       "      <th>MonetaryValue</th>\n",
       "      <th>Clumpiness</th>\n",
       "      <th>R</th>\n",
       "      <th>F</th>\n",
       "      <th>M</th>\n",
       "      <th>C</th>\n",
       "      <th>RFMC_Segment</th>\n",
       "      <th>RFMC_Score</th>\n",
       "      <th>RFMC_Loyalty_Level</th>\n",
       "    </tr>\n",
       "    <tr>\n",
       "      <th>customerid</th>\n",
       "      <th></th>\n",
       "      <th></th>\n",
       "      <th></th>\n",
       "      <th></th>\n",
       "      <th></th>\n",
       "      <th></th>\n",
       "      <th></th>\n",
       "      <th></th>\n",
       "      <th></th>\n",
       "      <th></th>\n",
       "      <th></th>\n",
       "    </tr>\n",
       "  </thead>\n",
       "  <tbody>\n",
       "    <tr>\n",
       "      <th>0003503118</th>\n",
       "      <td>234</td>\n",
       "      <td>3</td>\n",
       "      <td>0.00</td>\n",
       "      <td>0.935565</td>\n",
       "      <td>1</td>\n",
       "      <td>3</td>\n",
       "      <td>1</td>\n",
       "      <td>1</td>\n",
       "      <td>1311</td>\n",
       "      <td>6</td>\n",
       "      <td>Iron</td>\n",
       "    </tr>\n",
       "    <tr>\n",
       "      <th>0014521825</th>\n",
       "      <td>159</td>\n",
       "      <td>1</td>\n",
       "      <td>0.00</td>\n",
       "      <td>0.935565</td>\n",
       "      <td>3</td>\n",
       "      <td>1</td>\n",
       "      <td>1</td>\n",
       "      <td>1</td>\n",
       "      <td>3111</td>\n",
       "      <td>6</td>\n",
       "      <td>Iron</td>\n",
       "    </tr>\n",
       "    <tr>\n",
       "      <th>0022804213</th>\n",
       "      <td>285</td>\n",
       "      <td>3</td>\n",
       "      <td>0.00</td>\n",
       "      <td>0.935565</td>\n",
       "      <td>1</td>\n",
       "      <td>3</td>\n",
       "      <td>1</td>\n",
       "      <td>1</td>\n",
       "      <td>1311</td>\n",
       "      <td>6</td>\n",
       "      <td>Iron</td>\n",
       "    </tr>\n",
       "    <tr>\n",
       "      <th>0027250175</th>\n",
       "      <td>114</td>\n",
       "      <td>1</td>\n",
       "      <td>0.00</td>\n",
       "      <td>0.935565</td>\n",
       "      <td>3</td>\n",
       "      <td>1</td>\n",
       "      <td>1</td>\n",
       "      <td>1</td>\n",
       "      <td>3111</td>\n",
       "      <td>6</td>\n",
       "      <td>Iron</td>\n",
       "    </tr>\n",
       "    <tr>\n",
       "      <th>0032909491</th>\n",
       "      <td>178</td>\n",
       "      <td>1</td>\n",
       "      <td>134.73</td>\n",
       "      <td>0.935565</td>\n",
       "      <td>2</td>\n",
       "      <td>1</td>\n",
       "      <td>4</td>\n",
       "      <td>1</td>\n",
       "      <td>2141</td>\n",
       "      <td>8</td>\n",
       "      <td>Silver</td>\n",
       "    </tr>\n",
       "  </tbody>\n",
       "</table>\n",
       "</div>"
      ],
      "text/plain": [
       "            Recency  Frequency  MonetaryValue  Clumpiness  R  F  M  C  \\\n",
       "customerid                                                              \n",
       "0003503118      234          3           0.00    0.935565  1  3  1  1   \n",
       "0014521825      159          1           0.00    0.935565  3  1  1  1   \n",
       "0022804213      285          3           0.00    0.935565  1  3  1  1   \n",
       "0027250175      114          1           0.00    0.935565  3  1  1  1   \n",
       "0032909491      178          1         134.73    0.935565  2  1  4  1   \n",
       "\n",
       "           RFMC_Segment  RFMC_Score RFMC_Loyalty_Level  \n",
       "customerid                                              \n",
       "0003503118         1311           6               Iron  \n",
       "0014521825         3111           6               Iron  \n",
       "0022804213         1311           6               Iron  \n",
       "0027250175         3111           6               Iron  \n",
       "0032909491         2141           8             Silver  "
      ]
     },
     "execution_count": 241,
     "metadata": {},
     "output_type": "execute_result"
    }
   ],
   "source": [
    "RFMC_data.head()"
   ]
  },
  {
   "cell_type": "markdown",
   "metadata": {},
   "source": [
    "## To MySQL"
   ]
  },
  {
   "cell_type": "markdown",
   "metadata": {},
   "source": [
    "connection = pymysql.connect(host='10.75.102.17', user='sfr_ai_blue_user', password='SfR_116#611$', \n",
    "                             port=3307, db = 'smexplorerdata')\n",
    "cursor=connection.cursor()"
   ]
  },
  {
   "cell_type": "code",
   "execution_count": 242,
   "metadata": {
    "scrolled": true
   },
   "outputs": [],
   "source": [
    "engine = create_engine(\"mysql+pymysql://{user}:{password}@IP_here:port_here/{db}\"\n",
    "                       .format(user='user_here', password='password_here', \n",
    "                             db = 'db_here'))\n"
   ]
  },
  {
   "cell_type": "code",
   "execution_count": 243,
   "metadata": {},
   "outputs": [
    {
     "data": {
      "text/plain": [
       "<sqlalchemy.engine.result.ResultProxy at 0x19336117358>"
      ]
     },
     "execution_count": 243,
     "metadata": {},
     "output_type": "execute_result"
    }
   ],
   "source": [
    "t=text(\"delete from schema.`rfmc_lookup`\")\n",
    "engine.execute(t)"
   ]
  },
  {
   "cell_type": "code",
   "execution_count": 244,
   "metadata": {
    "scrolled": true
   },
   "outputs": [
    {
     "name": "stdout",
     "output_type": "stream",
     "text": [
      "Data Transferred to MySQL AI Blue Server\n"
     ]
    }
   ],
   "source": [
    "RFMC_data.to_sql('rfmc_lookup', con=engine, if_exists='append')\n",
    "print(\"Data Transferred to MySQL AI Blue Server\")"
   ]
  },
  {
   "cell_type": "markdown",
   "metadata": {},
   "source": [
    "## Thank You"
   ]
  }
 ],
 "metadata": {
  "kernelspec": {
   "display_name": "Python 3",
   "language": "python",
   "name": "python3"
  },
  "language_info": {
   "codemirror_mode": {
    "name": "ipython",
    "version": 3
   },
   "file_extension": ".py",
   "mimetype": "text/x-python",
   "name": "python",
   "nbconvert_exporter": "python",
   "pygments_lexer": "ipython3",
   "version": "3.7.3"
  }
 },
 "nbformat": 4,
 "nbformat_minor": 4
}
